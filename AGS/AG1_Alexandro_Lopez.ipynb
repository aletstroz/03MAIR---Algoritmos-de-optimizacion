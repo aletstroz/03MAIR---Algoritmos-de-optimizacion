{
  "nbformat": 4,
  "nbformat_minor": 0,
  "metadata": {
    "colab": {
      "name": "AG1-Alexandro_Lopez.ipynb",
      "version": "0.3.2",
      "provenance": [],
      "include_colab_link": true
    },
    "kernelspec": {
      "name": "python3",
      "display_name": "Python 3"
    }
  },
  "cells": [
    {
      "cell_type": "markdown",
      "metadata": {
        "id": "view-in-github",
        "colab_type": "text"
      },
      "source": [
        "<a href=\"https://colab.research.google.com/github/aletstroz/03MAIR---Algoritmos-de-optimizacion/blob/master/AGS/AG1_Alexandro_Lopez.ipynb\" target=\"_parent\"><img src=\"https://colab.research.google.com/assets/colab-badge.svg\" alt=\"Open In Colab\"/></a>"
      ]
    },
    {
      "metadata": {
        "id": "aAkysaGPucrm",
        "colab_type": "text"
      },
      "cell_type": "markdown",
      "source": [
        "Ag1 - Actividad Guiada 1\n",
        "\n",
        "Alexandro López González\n",
        "\n",
        "https://github.com/aletstroz/03MAIR---Algoritmos-de-optimizacion/tree/master/AG1\n"
      ]
    },
    {
      "metadata": {
        "id": "LmNupwtBucNu",
        "colab_type": "code",
        "colab": {}
      },
      "cell_type": "code",
      "source": [
        "#Decorador para calcular_tiempo a la función para la cual queremos calcular el tiempo de ejecución(Isabel Vázquez)\n",
        "\n",
        "from time import time\n",
        "#Función para calcular el tiempo de ejecución\n",
        "def calcular_tiempo(f):\n",
        "   \n",
        "    def wrapper(*args, **kwargs):        \n",
        "        inicio = time()       \n",
        "        resultado = f(*args, **kwargs)       \n",
        "        tiempo = time() - inicio\n",
        "        print(\"Tiempo de ejecución para algoritmo: \"+str(tiempo))\n",
        "        return resultado\n",
        "    \n",
        "    return wrapper\n",
        "from time import time"
      ],
      "execution_count": 0,
      "outputs": []
    },
    {
      "metadata": {
        "id": "xr_ScVoOULy8",
        "colab_type": "text"
      },
      "cell_type": "markdown",
      "source": [
        "## Algoritmo Quick Sort"
      ]
    },
    {
      "metadata": {
        "id": "_UmQiNuOuaIN",
        "colab_type": "code",
        "colab": {
          "base_uri": "https://localhost:8080/",
          "height": 51
        },
        "outputId": "250a41e1-9bb9-46a0-dcfa-a56d29b18afc"
      },
      "cell_type": "code",
      "source": [
        "# quick sort\n",
        "A = [9187, 244, 4054, 9222, 8373, 4993, 5265, 5470, 4519, 7182, 2035, 3506, 4337, 7580, 2554, 2824, 8357, 4447, 7379]\n",
        "\n",
        "def quick_sort(A):\n",
        "  # se llevan a cabo los primeros dos casos, cuando A tiene un solo elemento, y cuando tiene 2 elementos\n",
        "  if len(A)==1:\n",
        "    return(A)\n",
        "  if len(A)==2:\n",
        "    return([min(A),max(A)])\n",
        "  # procedemos a los casos en que A tien más elementos\n",
        "  izq=[]\n",
        "  der=[]\n",
        "  pivote = (A[0]+A[1]+A[2])/3 # definiremos un pivote con la media de los 3 primeros (bajo costo computacional)\n",
        "  # se divide en dos listas, las menores al pivote y las mayores al pivote\n",
        "  for i in A:\n",
        "    if i<pivote:\n",
        "      izq.append(i)\n",
        "    else:\n",
        "      der.append(i)\n",
        "  return(quick_sort(izq) + quick_sort(der))\n",
        "\n",
        "@calcular_tiempo\n",
        "def QS(A):\n",
        "  return quick_sort(A)\n",
        "\n",
        "print(QS(A))"
      ],
      "execution_count": 65,
      "outputs": [
        {
          "output_type": "stream",
          "text": [
            "Tiempo de ejecución para algoritmo: 4.1961669921875e-05\n",
            "[244, 2035, 2554, 2824, 3506, 4054, 4337, 4447, 4519, 4993, 5265, 5470, 7182, 7379, 7580, 8357, 8373, 9187, 9222]\n"
          ],
          "name": "stdout"
        }
      ]
    },
    {
      "metadata": {
        "id": "_8Q-KFjeivl4",
        "colab_type": "text"
      },
      "cell_type": "markdown",
      "source": [
        "### Quick sort usando la mediana"
      ]
    },
    {
      "metadata": {
        "id": "2yOArzVWgiaK",
        "colab_type": "code",
        "colab": {
          "base_uri": "https://localhost:8080/",
          "height": 51
        },
        "outputId": "ce9deea1-6fba-4a4f-a5a2-d15db36a5d90"
      },
      "cell_type": "code",
      "source": [
        "# quick sort\n",
        "import numpy as np\n",
        "\n",
        "A = [9187, 244, 4054, 9222, 8373, 4993, 5265, 5470, 4519, 7182, 2035, 3506, 4337, 7580, 2554, 2824, 8357, 4447, 7379]\n",
        "\n",
        "def quick_sort(A):\n",
        "  # se llevan a cabo los primeros dos casos, cuando A tiene un solo elemento, y cuando tiene 2 elementos\n",
        "  if len(A)==1:\n",
        "    return(A)\n",
        "  if len(A)==2:\n",
        "    return([min(A),max(A)])\n",
        "  # procedemos a los casos en que A tien más elementos\n",
        "  izq=[]\n",
        "  der=[]\n",
        "  pivote=np.median(A) # se podría usar la mediana (mayor costo computacional)\n",
        "  # se divide en dos listas, las menores al pivote y las mayores al pivote\n",
        "  for i in A:\n",
        "    if i<pivote:\n",
        "      izq.append(i)\n",
        "    else:\n",
        "      der.append(i)\n",
        "  # \n",
        "  return(quick_sort(izq) + quick_sort(der))\n",
        "\n",
        "@calcular_tiempo\n",
        "def QS(A):\n",
        "  return quick_sort(A)\n",
        "\n",
        "print(QS(A))"
      ],
      "execution_count": 53,
      "outputs": [
        {
          "output_type": "stream",
          "text": [
            "Tiempo de ejecución para algoritmo: 0.0008935928344726562\n",
            "[244, 2035, 2554, 2824, 3506, 4054, 4337, 4447, 4519, 4993, 5265, 5470, 7182, 7379, 7580, 8357, 8373, 9187, 9222]\n"
          ],
          "name": "stdout"
        }
      ]
    },
    {
      "metadata": {
        "id": "GeHbYBGOkPaL",
        "colab_type": "text"
      },
      "cell_type": "markdown",
      "source": [
        "## Algoritmo voraz"
      ]
    },
    {
      "metadata": {
        "id": "7NPKlVoJi_72",
        "colab_type": "code",
        "colab": {
          "base_uri": "https://localhost:8080/",
          "height": 51
        },
        "outputId": "c898338d-e17d-4cd3-9ef7-24001a32395c"
      },
      "cell_type": "code",
      "source": [
        "# cambio de monedas\n",
        "Sistema = [25, 10, 5, 1] # sistema monetario en orden decreciente (debe ser por necesidad decreciente)\n",
        "\n",
        "@calcular_tiempo\n",
        "def cambio_monedas(C,Sistema):\n",
        "  Solucion =[0 for i in range(len(Sistema))] # variable de solución con el tamaño del sistema monetario\n",
        "  \n",
        "  Valor_acumulado=0 #variable del valor acumulado\n",
        "  \n",
        "  for i in range(len(Sistema)): # para cada uno de las monedas del sistema\n",
        "    monedas = int((C-Valor_acumulado)/Sistema[i]) # al cambio C se le resta el acumulado, y se divide entre el primer valor del sistema monetario\n",
        "    Solucion[i]=monedas # este valor es el número de ocasiones que se dividió C entre el valor más alto del sistema monetario\n",
        "    Valor_acumulado+= monedas*Sistema[i] # se multiplican el número de monedas por el valor de las monedas \n",
        "    \n",
        "    if C == Valor_acumulado: # si el valor acumulado es igual a C, se acaban las iteraciones\n",
        "      return Solucion\n",
        "\n",
        "cambio_monedas(99,Sistema)\n"
      ],
      "execution_count": 61,
      "outputs": [
        {
          "output_type": "stream",
          "text": [
            "Tiempo de ejecución para algoritmo: 8.821487426757812e-06\n"
          ],
          "name": "stdout"
        },
        {
          "output_type": "execute_result",
          "data": {
            "text/plain": [
              "[3, 2, 0, 4]"
            ]
          },
          "metadata": {
            "tags": []
          },
          "execution_count": 61
        }
      ]
    },
    {
      "metadata": {
        "id": "_I8IiRsPrv8V",
        "colab_type": "text"
      },
      "cell_type": "markdown",
      "source": [
        "## Vuelta atrás"
      ]
    },
    {
      "metadata": {
        "id": "ui4OYlThoKG3",
        "colab_type": "code",
        "colab": {
          "base_uri": "https://localhost:8080/",
          "height": 306
        },
        "outputId": "7dd99a0c-01af-4c12-a61d-74158b0c9110"
      },
      "cell_type": "code",
      "source": [
        "# problema de las N reinas con la técnica de vuelta atrás\n",
        "# condiciones iniciales\n",
        "N=4 # número de reinas\n",
        "solucion = [0 for i in range(N)]\n",
        "etapa=0\n",
        "\n",
        "\n",
        "def es_prometedora(solucion,etapa):\n",
        "  for i in range(etapa+1):\n",
        "    if solucion.count(solucion[i]) > 1:\n",
        "      return False\n",
        "    for j in range(i+1,etapa+1):\n",
        "      if abs(i-j)==abs(solucion[i]-solucion[j]):\n",
        "        return False\n",
        "  return True     \n",
        "\n",
        "def escribe(S):\n",
        "  n = len(S)\n",
        "  for x in range(n):\n",
        "    print(\"\")\n",
        "    for i in range(n):\n",
        "      if solucion[i]==x+1:\n",
        "        print(\" X \",end=\"\")\n",
        "      else:\n",
        "        print(\" - \",end=\"\")\n",
        "\n",
        "def reinas(N,solucion,etapa):\n",
        "  for i in range(1,N+1):\n",
        "    solucion[etapa]=i\n",
        "    if es_prometedora(solucion,etapa):\n",
        "      if etapa == N-1:\n",
        "        print('\\n\\nLa solución es:')\n",
        "        print(solucion)\n",
        "        escribe(solucion)\n",
        "      else:\n",
        "        reinas(N,solucion,etapa+1)\n",
        "    else:\n",
        "      None\n",
        "      \n",
        "    solucion[etapa] = 0\n",
        "    \n",
        "reinas(N,solucion,etapa)"
      ],
      "execution_count": 77,
      "outputs": [
        {
          "output_type": "stream",
          "text": [
            "\n",
            "\n",
            "La solución es:\n",
            "[2, 4, 1, 3]\n",
            "\n",
            " -  -  X  - \n",
            " X  -  -  - \n",
            " -  -  -  X \n",
            " -  X  -  - \n",
            "\n",
            "La solución es:\n",
            "[3, 1, 4, 2]\n",
            "\n",
            " -  X  -  - \n",
            " -  -  -  X \n",
            " X  -  -  - \n",
            " -  -  X  - "
          ],
          "name": "stdout"
        }
      ]
    }
  ]
}