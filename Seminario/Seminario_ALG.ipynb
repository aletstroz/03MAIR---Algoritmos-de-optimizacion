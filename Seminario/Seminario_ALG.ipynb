{
  "nbformat": 4,
  "nbformat_minor": 0,
  "metadata": {
    "colab": {
      "name": "Seminario_ALG.ipynb",
      "version": "0.3.2",
      "provenance": [],
      "collapsed_sections": [],
      "include_colab_link": true
    },
    "kernelspec": {
      "display_name": "Python 3",
      "language": "python",
      "name": "python3"
    }
  },
  "cells": [
    {
      "cell_type": "markdown",
      "metadata": {
        "id": "view-in-github",
        "colab_type": "text"
      },
      "source": [
        "<a href=\"https://colab.research.google.com/github/aletstroz/03MAIR---Algoritmos-de-optimizacion/blob/master/Seminario/Seminario_ALG.ipynb\" target=\"_parent\"><img src=\"https://colab.research.google.com/assets/colab-badge.svg\" alt=\"Open In Colab\"/></a>"
      ]
    },
    {
      "metadata": {
        "colab_type": "text",
        "id": "hVbXYX-RfPWh"
      },
      "cell_type": "markdown",
      "source": [
        "## Algoritmos de optimización - Seminario<br>\n",
        "Nombre y Apellidos:  Alexandro López González <br>\n",
        "Url: https://github.com/aletstroz/03MAIR---Algoritmos-de-optimizacion/tree/master/Seminario<br>\n",
        "Problema:\n",
        "> 1. Elección de grupos de población homogéneos\n",
        "\n",
        "Descripción del problema: \n",
        "Una productora ganadera nos encarga la tarea de seleccionar grupos de\n",
        "terneros para aplicar 3 tratamientos diferentes. Para cada uno de los\n",
        "tratamientos debemos seleccionar 3 grupos de terneros que sean lo mas\n",
        "homogéneos posible en peso para que en los resultados del tratamiento influya\n",
        "lo menos posible el peso del animal. Disponemos de una población de N\n",
        "animales entre machos y hembras. <br>\n",
        "Se solicita diseñar un algoritmo para conseguir una agrupación que cumpla de la\n",
        "mejor manera posible las especificaciones de la productora.<br>\n",
        "Hemos podido averigua que el peso medio del ternero es 37kg con una\n",
        "desviación estándar de 2.1\n",
        "\n",
        "\n",
        "\n",
        "\n",
        "                                        "
      ]
    },
    {
      "metadata": {
        "colab_type": "code",
        "id": "AiskKkzZfy4e",
        "colab": {}
      },
      "cell_type": "code",
      "source": [
        "# Librerias necesarias\n",
        "import numpy as np\n",
        "import pandas as pd\n",
        "import time\n",
        "from itertools import permutations \n",
        "import matplotlib.pyplot as plt"
      ],
      "execution_count": 0,
      "outputs": []
    },
    {
      "metadata": {
        "colab_type": "text",
        "id": "3_-exlrTgLd-"
      },
      "cell_type": "markdown",
      "source": [
        "(*)¿Cuantas posibilidades hay sin tener en cuenta las restricciones?<br>\n",
        "\n",
        "\n",
        "\n",
        "¿Cuantas posibilidades hay teniendo en cuenta todas las restricciones.\n",
        "\n",
        "\n"
      ]
    },
    {
      "metadata": {
        "colab_type": "text",
        "id": "WfCUqJyKhPcw"
      },
      "cell_type": "markdown",
      "source": [
        "Respuesta:<br>\n",
        "Se tienen N animales, los cuales se deberán clasificar en 9 grupos (3 grupos para cada uno de los 3 tratamientos). Usando combinatoria se puede decir que:<br>\n",
        "$C^p_n=\\frac{n!}{p!(n-p)!}$ <br>\n",
        "donde $C$ es el número de combinaciones posibles, $n$ es el número de elementos totales y $p$ es el número de subconjuntos, siempre que $n>p$, entonces dado que se tienen N elementos y 9 grupos: <br>\n",
        "$C^9_N=\\frac{N!}{9!(N-9)!}$ <br>\n",
        "Si por ejemplo se tienen 90 animales (N=90), las combinaciones posibles son:<br>\n",
        "$C^{9}_{90}=\\frac{90!}{9!(90-9)!}=7.0625\\times10^{11}$ <br>"
      ]
    },
    {
      "metadata": {
        "colab_type": "text",
        "id": "dzynfVJahHoY"
      },
      "cell_type": "markdown",
      "source": [
        "Modelo para el espacio de soluciones<br>\n",
        "(*) ¿Cual es la estructura de datos que mejor se adapta al problema? Argumentalo.(Es posible que hayas elegido una al principio y veas la necesidad de cambiar, arguentalo)\n"
      ]
    },
    {
      "metadata": {
        "colab_type": "text",
        "id": "xFIJrOwKi2Ti"
      },
      "cell_type": "markdown",
      "source": [
        "Respuesta:\n",
        "\n",
        "Se creará un DataFrame donde se etiquetaran los animales con un indice único desde 0 a N. Se adiciona el peso y el sexo de cada animal. Este es creado por la función aleatoria que depende de N y del promedio de peso (m=37 kg) y desviación estandar (s=2.1). Este DataFrame será util, como referencia para la función de aptitud del algoritmo.\n",
        "\n",
        "El algoritmo usará una matriz para generar cada individuo de una población, conformada por solo los índices del DataFrame de animales."
      ]
    },
    {
      "metadata": {
        "colab_type": "code",
        "id": "38c-7-ejhJmA",
        "outputId": "00d5c293-e0a8-424f-e323-dd446ca1ec1a",
        "colab": {
          "base_uri": "https://localhost:8080/",
          "height": 391
        }
      },
      "cell_type": "code",
      "source": [
        "# Este es el código que crea N animales aleatorios en un DataFrame\n",
        "# Se basa en una distribución normal o gaussiana para generar animales con s=2.1 y m=37 kg\n",
        "def Gen_Prob(N):\n",
        "  s=2.1 \n",
        "  m=37\n",
        "  peso = np.random.normal(m,s,N)\n",
        "  a = np.random.rand(N,1)\n",
        "  sexo=[]\n",
        "  for i in a:\n",
        "    if i>=0.5: # el porcentaje de hembra macho es 50%\n",
        "      sexo.append('Hembra')\n",
        "    else:\n",
        "      sexo.append('Macho')\n",
        "  df = pd.DataFrame({'Peso':peso,'Sexo':sexo})\n",
        "# Se truncará al múltiplo más aproximado de 9, esta división cumple 2 propósitos:\n",
        "# Hacer grupos del mísmo número de animales y si es posible dejar un grupo de \n",
        "# control de hasta 8 animales\n",
        "  Nm=N-(N%9) #Máximo común divisor de 9\n",
        "  k=int(Nm/9)# se determina cuántos animales tendrá cada grupo experimental\n",
        "  n = Prob[\"Peso\"].tolist() # se extrae la lista de individuos del data frame\n",
        "  return df,Nm,k,n\n",
        "\n",
        "# se crean N animales aleatorios dentro de la distribución\n",
        "N=int(input(\"Número de animales:\"))\n",
        "Prob,Nm,k,n=Gen_Prob(N)\n",
        "print(Prob)\n",
        "print('Total de elementos a seleccionar:',Nm) # El total de elementos a seleccionar\n",
        "print('Número de animales por grupo',k)"
      ],
      "execution_count": 70,
      "outputs": [
        {
          "output_type": "stream",
          "text": [
            "Número de animales:18\n",
            "         Peso    Sexo\n",
            "0   41.494194   Macho\n",
            "1   39.796208  Hembra\n",
            "2   35.532521  Hembra\n",
            "3   34.414105   Macho\n",
            "4   37.108704   Macho\n",
            "5   37.482890  Hembra\n",
            "6   36.744848   Macho\n",
            "7   36.338404   Macho\n",
            "8   36.347394  Hembra\n",
            "9   39.517554   Macho\n",
            "10  34.772838  Hembra\n",
            "11  36.183473   Macho\n",
            "12  35.025513   Macho\n",
            "13  34.708327   Macho\n",
            "14  38.673900   Macho\n",
            "15  36.884185  Hembra\n",
            "16  34.491333  Hembra\n",
            "17  38.263189  Hembra\n",
            "Total de elementos a seleccionar: 18\n",
            "Número de animales por grupo 2\n"
          ],
          "name": "stdout"
        }
      ]
    },
    {
      "metadata": {
        "colab_type": "text",
        "id": "7Z9U2W7bi-XS"
      },
      "cell_type": "markdown",
      "source": [
        "Según el modelo para el espacio de soluciones<br>\n",
        "(*)¿Cual es la función objetivo?\n",
        "\n",
        "(*)¿Es un problema de maximización o minimización?"
      ]
    },
    {
      "metadata": {
        "colab_type": "text",
        "id": "hBalWLM7j1_d"
      },
      "cell_type": "markdown",
      "source": [
        "Respuesta:<br>\n",
        "La función objetivo será la suma de las desviaciones estandar de los grupos.<br>\n",
        "Es un problema de minimizar esta suma. Los individuos con elementos más parecidos tendran la suma de la desviación estandar más pequeña.<br>\n",
        "Ejemplo: <br>\n",
        "Para un individuo A suponga que los grupos 1 y 2 son [ 1 3 5] y [2 3 4] respectivamente. Las desviaciones estandar son [1.63299316 0.81649658], que sumadas son 2.449489742783178. Para un segundo individuo B los grupos 1 y 2 son [3.1 3 3.2] y [3 3 3], las desviaciones serán [0.08164966 0.0], al sumarse 0.08164965809277268. Entonces el individuo B es superior, lo cual se puede notar lor la uniformidad de los grupos 1 y 2 en comparación con los del individuo B.\n"
      ]
    },
    {
      "metadata": {
        "colab_type": "code",
        "id": "pDA-rg3Gj5Lz",
        "outputId": "f310f71a-096f-4926-cb87-5801828e6179",
        "colab": {
          "base_uri": "https://localhost:8080/",
          "height": 51
        }
      },
      "cell_type": "code",
      "source": [
        "def func_apt(mat):\n",
        "  desv=np.std(mat, axis=1) # desviación estandar de cada set de grupos\n",
        "  #print(desv)\n",
        "  apt=np.sum(desv) # suma de la desviación estandar de todos los grupos\n",
        "  return apt\n",
        "\n",
        "# se ejecutan los ejemplos anteriores\n",
        "ej1 = np.array([[1,3,5], [2,3,4]])\n",
        "apt1=func_apt(ej1)\n",
        "print(apt1)\n",
        "\n",
        "ej2 = np.array([[3.1,3,3.2], [3,3,3]])\n",
        "apt2=func_apt(ej2)\n",
        "print(apt2)\n"
      ],
      "execution_count": 71,
      "outputs": [
        {
          "output_type": "stream",
          "text": [
            "2.449489742783178\n",
            "0.08164965809277268\n"
          ],
          "name": "stdout"
        }
      ]
    },
    {
      "metadata": {
        "colab_type": "text",
        "id": "rlnTYgY1j6I2"
      },
      "cell_type": "markdown",
      "source": [
        "Diseña un algoritmo para resolver el problema por fuerza bruta"
      ]
    },
    {
      "metadata": {
        "colab_type": "text",
        "id": "70rDgxYXkC8r"
      },
      "cell_type": "markdown",
      "source": [
        "## Algoritmo de fuerza bruta"
      ]
    },
    {
      "metadata": {
        "id": "mvduIRIzz0Be",
        "colab_type": "text"
      },
      "cell_type": "markdown",
      "source": [
        "El algoritmo de fuerza bruta se basa en revisar cada permutación de las posibles evaluando la aptitud de cada solución y comparándola con la anterior. Si la función de aptitud de la actual es mejor que las anteriores, se selecciona como la mejor hasta que se reemplace con una mejor, o se termine el problema. <br>\n",
        "\n",
        "Se debe introducir el número máximo de iteraciones a llevar a cabo. Como se muestra más adelante, para 18 animales seleccionados en 9 grupos de 2, el número máximo de permutaciones es de 6,402,373,705,728,000. Si se desea se puede escribir cualquier número menor a ese para revisar los resultados en un tiempo límite.  <br>\n",
        "\n",
        "El algoritmo incluye un esquema try catch, por lo que si el usuario desea abortar el algoritmo, de cualquier forma se presentarán resultados hasta la iteración lograda.<br>\n",
        "\n",
        "Se recomiendan 1,000,000 iteraciones."
      ]
    },
    {
      "metadata": {
        "id": "9yEsFXRE0rEw",
        "colab_type": "code",
        "outputId": "431a2891-2b70-4597-c2f5-40886f758062",
        "colab": {
          "base_uri": "https://localhost:8080/",
          "height": 34
        }
      },
      "cell_type": "code",
      "source": [
        "def tiempo(time): # para cambiar a horas, minutos y segundos\n",
        "  time = time % (24 * 3600)\n",
        "  hour = time // 3600\n",
        "  time %= 3600\n",
        "  minutes = time // 60\n",
        "  time %= 60\n",
        "  seconds = time\n",
        "  print(\"%d:%d:%d\" % (hour, minutes, seconds))\n",
        "  \n",
        "iter_max=int(input(\"Número de iteraciones:\")) # Número de iteraciones máximas"
      ],
      "execution_count": 72,
      "outputs": [
        {
          "output_type": "stream",
          "text": [
            "Número de iteraciones:1000000\n"
          ],
          "name": "stdout"
        }
      ]
    },
    {
      "metadata": {
        "colab_type": "code",
        "id": "TY6DWyzwzMhu",
        "outputId": "c29e4148-0e2b-4640-de77-8053c658b0e7",
        "colab": {
          "base_uri": "https://localhost:8080/",
          "height": 599
        }
      },
      "cell_type": "code",
      "source": [
        "best=100e10 # se propone la mejor varianza con un número eneorme, para proceder a minimizar\n",
        "cont=0\n",
        "cont2=0\n",
        "error=[]\n",
        "try:\n",
        "    start_time = time.time()\n",
        "    for item in permutations(n): # para cada permutación, se evalua la función de aptitud\n",
        "        #print(cont2) \n",
        "        y=func_apt(np.array([item[0:k],item[k:2*k],item[2*k:3*k],item[3*k:4*k],item[4*k:5*k],item[5*k:6*k],item[6*k:7*k],item[7*k:8*k],item[8*k:9*k]]))\n",
        "        cont2=cont2+1  \n",
        "        if y < best: # si la evaluación arroja una solución mejor (varianza mínima) se establece como mejor solución\n",
        "            best=y\n",
        "            sol=np.array([item[0:k],item[k:2*k],item[2*k:3*k],item[3*k:4*k],item[4*k:5*k],item[5*k:6*k],item[6*k:7*k],item[7*k:8*k],item[8*k:9*k]])\n",
        "            cont=cont+1 \n",
        "            error.append(best)\n",
        "        if cont2 == iter_max:\n",
        "           break\n",
        "except:\n",
        "    print('error')\n",
        "    \n",
        "elapsed_time = time.time() - start_time    \n",
        "print('Mejor suma de desviación:',best)\n",
        "print('Los 9 grupos de la solución son:')\n",
        "print(sol)\n",
        "print('Número de mejoras de aptitud:',cont)\n",
        "print('Tiempo transcurrido:')\n",
        "tiempo(elapsed_time)\n",
        "\n",
        "plt.plot(error)\n",
        "plt.ylabel('Desviación estandar')\n",
        "plt.xlabel('Evolución cambios')\n",
        "plt.show()"
      ],
      "execution_count": 73,
      "outputs": [
        {
          "output_type": "stream",
          "text": [
            "Mejor suma de desviación: 3.327280462000079\n",
            "Los 9 grupos de la solución son:\n",
            "[[36.57124066 38.01573492]\n",
            " [34.38278485 35.42686826]\n",
            " [37.24410824 36.41998755]\n",
            " [34.84130429 34.10981209]\n",
            " [36.37337728 36.32594036]\n",
            " [37.9365688  38.54671694]\n",
            " [34.28000079 33.69180245]\n",
            " [38.64387461 39.11620695]\n",
            " [37.77112788 36.87887326]]\n",
            "Número de mejoras de aptitud: 12\n",
            "Tiempo transcurrido:\n",
            "0:0:32\n"
          ],
          "name": "stdout"
        },
        {
          "output_type": "display_data",
          "data": {
            "image/png": "[encoded data removed]",
            "text/plain": [
              "<Figure size 576x396 with 1 Axes>"
            ]
          },
          "metadata": {
            "tags": []
          }
        }
      ]
    },
    {
      "metadata": {
        "id": "Wy6jb86wYynx",
        "colab_type": "text"
      },
      "cell_type": "markdown",
      "source": [
        "Se puede notar en la gráfica que para 1,000,000 iteraciones, realizadas en 32 segundos, se nota una clara tendencia de convergencia, por medio de la disminución de la suma de desviación estandar. El valor mínimo obtenido de desviación estandar es de 3.327280462000079, con 12 mejoras de aptitud."
      ]
    },
    {
      "metadata": {
        "colab_type": "text",
        "id": "tgrnsC2nkFa8"
      },
      "cell_type": "markdown",
      "source": [
        "Calcula la complejidad del algoritmo por fuerza bruta"
      ]
    },
    {
      "metadata": {
        "colab_type": "text",
        "id": "9eUd3xwckP68"
      },
      "cell_type": "markdown",
      "source": [
        "Respuesta: <br>\n",
        "Debido a que las permutaciones posibles son $N!$ y el algoritmo recorre cada una realizando el análisis de la función de aptitud, la complejidad del algoritmo es $N!\\times m$ donde $m$ es el número de operaciones que se realizan sobre cada permutación. <br>\n",
        "Aún que el código no está optimizado cualquier número de operaciones $m$ que se hagan sobre el número $N$ de permutaciones es muy elevado. El número mínimo de clasificaciones serían 9 grupos de al menos 2 animales (N=18), de esta forma:\n"
      ]
    },
    {
      "metadata": {
        "colab_type": "code",
        "id": "rvZWwL-ckRST",
        "outputId": "ea5fefbf-0512-4b15-996c-7efd5354ce2e",
        "colab": {
          "base_uri": "https://localhost:8080/",
          "height": 85
        }
      },
      "cell_type": "code",
      "source": [
        "import math\n",
        "\n",
        "N_ejem=18\n",
        "print('Número de permutaciones posibles:',math.factorial(N_ejem))\n",
        "print('Con 2 operaciones se tienen:',2*math.factorial(N_ejem),'operaciones')\n",
        "print('Con 3 operaciones se tienen:',3*math.factorial(N_ejem),'operaciones')\n",
        "print('Con 10 operaciones se tienen:',10*math.factorial(N_ejem),'operaciones')"
      ],
      "execution_count": 74,
      "outputs": [
        {
          "output_type": "stream",
          "text": [
            "Número de permutaciones posibles: 6402373705728000\n",
            "Con 2 operaciones se tienen: 12804747411456000 operaciones\n",
            "Con 3 operaciones se tienen: 19207121117184000 operaciones\n",
            "Con 10 operaciones se tienen: 64023737057280000 operaciones\n"
          ],
          "name": "stdout"
        }
      ]
    },
    {
      "metadata": {
        "id": "vGQoevOUQH4v",
        "colab_type": "text"
      },
      "cell_type": "markdown",
      "source": [
        "## Algoritmo de busqueda aleatoria por lotes"
      ]
    },
    {
      "metadata": {
        "colab_type": "text",
        "id": "txbrmLmskReM"
      },
      "cell_type": "markdown",
      "source": [
        "(*)Diseña un algoritmo que mejore la complejidad del algortimo por fuerza bruta. Argumenta porque crees que mejora el algoritmo por fuerza bruta"
      ]
    },
    {
      "metadata": {
        "colab_type": "text",
        "id": "hLrVwt5QkZPD"
      },
      "cell_type": "markdown",
      "source": [
        "Respuesta:<br>\n",
        "Un algoritmo que mejora la complejidad es una búsqueda aleatoria por lotes. El proceso será:<br>\n",
        "1- Generar un lote inicial aleatorio de PobSize elementos<br>\n",
        "2- Evaluar la función de aptitud para cada elemento de la población PobSize<br>\n",
        "3- Seleccionar el mejor de los elementos<br>\n",
        "4- Regresar al punto 1 un numero determinado de iteraciones<br>\n",
        "\n",
        "Este algoritmo mejora el desempeño de la búsqueda por fuerza bruta debido a que no usa tódo el espacio de permutaciones como espacio de búsqueda, solo toma valores aleatorios y registra cambios cuando existe una mejoría de la solución encontrada."
      ]
    },
    {
      "metadata": {
        "colab_type": "code",
        "id": "m1eyM21Vkabg",
        "colab": {}
      },
      "cell_type": "code",
      "source": [
        "# Librerias necesarias\n",
        "import numpy as np\n",
        "import pandas as pd\n",
        "import time\n",
        "import matplotlib.pyplot as plt\n"
      ],
      "execution_count": 0,
      "outputs": []
    },
    {
      "metadata": {
        "colab_type": "text",
        "id": "eGDB4K6uk1iN"
      },
      "cell_type": "markdown",
      "source": [
        "(*)Calcula la complejidad del algoritmo "
      ]
    },
    {
      "metadata": {
        "colab_type": "text",
        "id": "NhpTh_BPk1ms"
      },
      "cell_type": "markdown",
      "source": [
        "Respuesta: <br>\n",
        "El algoritmo es tan complejo como el número de operaciones multiplicado por el número de operaciones por el número de elementos en cada lote. Es decir, sea $m$ el número de operaciones que realiza el algoritmo $P$ el número de elementos a seleccionar en cada lote, y  $g$ el número de iteraciones a realizar, enconces la complejidad, $C$ del algoritmo es: $C=m\\times P \\times g$"
      ]
    },
    {
      "metadata": {
        "colab_type": "text",
        "id": "3M6QjTsSkmYe"
      },
      "cell_type": "markdown",
      "source": [
        "Según el problema (y tenga sentido), diseña un juego de datos de entrada aleatorios"
      ]
    },
    {
      "metadata": {
        "colab_type": "text",
        "id": "Jc3_OlyNkvjZ"
      },
      "cell_type": "markdown",
      "source": [
        "Respuesta <br>\n",
        "La función Gen_Prob(N) genera N animales aleatorios dentro de la distribución normal del problema. Note que se deberán dividir en 9 grupos por lo que si el número no es divisor de 9 se trunca hasta el máximo común divisor (Nm).\n"
      ]
    },
    {
      "metadata": {
        "colab_type": "code",
        "id": "sJ-N2etjkyWc",
        "colab": {}
      },
      "cell_type": "code",
      "source": [
        "# refierase a la función Gen_Prob(N), esta función sirve para ambos algoritmos\n",
        "\n"
      ],
      "execution_count": 0,
      "outputs": []
    },
    {
      "metadata": {
        "colab_type": "text",
        "id": "zy5ZROmjlGo1"
      },
      "cell_type": "markdown",
      "source": [
        "Aplica el algoritmo al juego de datos generado"
      ]
    },
    {
      "metadata": {
        "colab_type": "text",
        "id": "_Cmj-PVylMsa"
      },
      "cell_type": "markdown",
      "source": [
        "Respuesta <br>\n",
        "Se elige un número de elementos para cada lote suponga: 1,000 elementos en cada lote <br>\n",
        "Se elige un número de iteraciones a realizar, suponga: 10,000 iteraciones "
      ]
    },
    {
      "metadata": {
        "id": "BiYgSyztykGW",
        "colab_type": "code",
        "colab": {
          "base_uri": "https://localhost:8080/",
          "height": 51
        },
        "outputId": "19632d82-13aa-4312-fc33-eb8264da243e"
      },
      "cell_type": "code",
      "source": [
        "PobSize=int(input(\"Tamaño del lote:\")) # Tamaño de cada lote de soluciones\n",
        "IteraNum=int(input(\"Número de iteraciones:\")) # Número de iteraciones máximas"
      ],
      "execution_count": 76,
      "outputs": [
        {
          "output_type": "stream",
          "text": [
            "Tamaño del lote:1000\n",
            "Número de iteraciones:10000\n"
          ],
          "name": "stdout"
        }
      ]
    },
    {
      "metadata": {
        "id": "ddvzRTLehVxn",
        "colab_type": "code",
        "colab": {}
      },
      "cell_type": "code",
      "source": [
        "# Generador de población aleatoria -------------------------------------------------------------------------------------------------------------------------------\n",
        "def genRand(PobSize): \n",
        "  PobRand=[]\n",
        "  for i in range(PobSize): # Dado el número de elementos para la población inicial genera esa cantidad de permutaciones aleatorias del vector n (individuos a clasificar)\n",
        "    x=list(np.random.permutation(n))\n",
        "    PobRand.append(x)\n",
        "  return(PobRand)\n",
        "\n",
        "# Evaluador de aptitud, calcula la desviación estandar de cada set de grupos clasificados--------------------------------------------------------------------------------\n",
        "def func_apt(mat): \n",
        "  desv=np.std(mat, axis=1) # desviación estandar de cada set de grupos\n",
        "  apt=np.sum(desv) # suma de la desviación estandar de todos los grupos\n",
        "  return apt\n",
        "\n",
        "def tiempo(time): # para cambiar a horas, minutos y segundos\n",
        "  time = time % (24 * 3600)\n",
        "  hour = time // 3600\n",
        "  time %= 3600\n",
        "  minutes = time // 60\n",
        "  time %= 60\n",
        "  seconds = time\n",
        "  print(\"%d:%d:%d\" % (hour, minutes, seconds))\n"
      ],
      "execution_count": 0,
      "outputs": []
    },
    {
      "metadata": {
        "id": "Y7MabZXyhygs",
        "colab_type": "code",
        "colab": {
          "base_uri": "https://localhost:8080/",
          "height": 599
        },
        "outputId": "3f838754-504f-4661-d5af-d954aaa689d2"
      },
      "cell_type": "code",
      "source": [
        "best=100e10 # se propone la mejor varianza con un número enorme, para proceder a minimizar\n",
        "cont=0\n",
        "error=[]\n",
        "\n",
        "start_time = time.time()\n",
        "\n",
        "for i in range(IteraNum):\n",
        "  PobRand=genRand(PobSize) # genera una población aleatoria\n",
        "    \n",
        "  for item in PobRand: # evalúa cada elemento de la población aleatoria creada\n",
        "    y=func_apt(np.array([item[0:k],item[k:2*k],item[2*k:3*k],item[3*k:4*k],item[4*k:5*k],item[5*k:6*k],item[6*k:7*k],item[7*k:8*k],item[8*k:9*k]]))\n",
        "        \n",
        "    if y < best: # si la evaluación arroja una solución mejor (varianza mínima) se establece como mejor solución\n",
        "      best=y\n",
        "      sol=np.array([item[0:k],item[k:2*k],item[2*k:3*k],item[3*k:4*k],item[4*k:5*k],item[5*k:6*k],item[6*k:7*k],item[7*k:8*k],item[8*k:9*k]])\n",
        "      cont=cont+1\n",
        "      error.append(best)\n",
        "\n",
        "# -------------------------------------------------------Resultados--------------------------------------------------------------------------------\n",
        "\n",
        "elapsed_time = time.time() - start_time    \n",
        "print('Mejor suma de desviación:',best)\n",
        "print('Los 9 grupos de la solución son:')\n",
        "print(sol)\n",
        "print('Número de mejoras de aptitud:',cont)\n",
        "print('Tiempo transcurrido:')\n",
        "tiempo(elapsed_time)\n",
        "\n",
        "plt.plot(error)\n",
        "plt.ylabel('Desviación estandar')\n",
        "plt.xlabel('Evolución cambios')\n",
        "plt.show()"
      ],
      "execution_count": 78,
      "outputs": [
        {
          "output_type": "stream",
          "text": [
            "Mejor suma de desviación: 1.46612926078598\n",
            "Los 9 grupos de la solución son:\n",
            "[[38.01573492 38.54671694]\n",
            " [37.24410824 36.87887326]\n",
            " [39.11620695 38.64387461]\n",
            " [36.41998755 36.37337728]\n",
            " [36.32594036 36.57124066]\n",
            " [34.10981209 33.69180245]\n",
            " [37.9365688  37.77112788]\n",
            " [34.84130429 35.42686826]\n",
            " [34.38278485 34.28000079]]\n",
            "Número de mejoras de aptitud: 15\n",
            "Tiempo transcurrido:\n",
            "0:7:18\n"
          ],
          "name": "stdout"
        },
        {
          "output_type": "display_data",
          "data": {
            "image/png": "[encoded data removed]",
            "text/plain": [
              "<Figure size 576x396 with 1 Axes>"
            ]
          },
          "metadata": {
            "tags": []
          }
        }
      ]
    },
    {
      "metadata": {
        "id": "U6T5-chNzhwe",
        "colab_type": "text"
      },
      "cell_type": "markdown",
      "source": [
        "Los resultados de forma comparativa muestran una gran mejora contra el algoritmo de fuerza bruta. Se realizan 10,000 iteraciones en un tiempo de 7:18 minutos para obtener 15 mejoras de aptitud y una suma de la desviación estandar de 1.46612926078598.<br>\n",
        "Si se aumenta el número de épocas, o el número de individuos a clasificar en los nueve grupos se notan estas tendecias de forma más marcada."
      ]
    },
    {
      "metadata": {
        "colab_type": "text",
        "id": "eTFWUJQrtGcv"
      },
      "cell_type": "markdown",
      "source": [
        "Enumera las referencias que has utilizado(si ha sido necesario) para llevar a cabo el trabajo"
      ]
    },
    {
      "metadata": {
        "colab_type": "text",
        "id": "144lfrE9DJ-h"
      },
      "cell_type": "markdown",
      "source": [
        "Respuesta:\n",
        "\n",
        "## Bibliografía\n",
        "\n",
        "https://docs.scipy.org/doc/numpy/reference/generated/numpy.random.normal.html <br>\n",
        "https://es.wikipedia.org/wiki/Combinatoria <br>\n",
        "https://docs.scipy.org/doc/numpy/reference/generated/numpy.random.shuffle.html?highlight=shuffle <br>\n",
        "https://www.geeksforgeeks.org/factorial-in-python/ <br>\n",
        "https://docs.scipy.org/doc/numpy-1.13.0/reference/generated/numpy.random.permutation.html<br>\n",
        "https://www.w3resource.com/python-exercises/python-basic-exercise-65.php\n"
      ]
    },
    {
      "metadata": {
        "colab_type": "text",
        "id": "kAkDPUyRtYyH"
      },
      "cell_type": "markdown",
      "source": [
        "Describe brevemente las lineas de como crees que es posible avanzar en el estudio del problema. Ten en cuenta incluso posibles variaciones del problema y/o variaciones al alza del tamaño"
      ]
    },
    {
      "metadata": {
        "colab_type": "text",
        "id": "IE0uZmo-tZu-"
      },
      "cell_type": "markdown",
      "source": [
        "Respuesta:\n",
        "\n",
        "El problema se puede hacer más complejo incluyendo más variables, como por ejemplo el sexo del animal. <br>\n",
        "\n",
        "Muchos algoritmos podrían mejorar el desempeño de los dos presentados en este documento. Metaheurísticas como los algoritmos genéticos serían una buena opción. "
      ]
    }
  ]
}